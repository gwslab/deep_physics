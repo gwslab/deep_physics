{
 "metadata": {
  "language_info": {
   "codemirror_mode": {
    "name": "ipython",
    "version": 3
   },
   "file_extension": ".py",
   "mimetype": "text/x-python",
   "name": "python",
   "nbconvert_exporter": "python",
   "pygments_lexer": "ipython3",
   "version": "3.8.5-final"
  },
  "orig_nbformat": 2,
  "kernelspec": {
   "name": "python3",
   "display_name": "Python 3.8.5 64-bit ('.venv')",
   "metadata": {
    "interpreter": {
     "hash": "ead969f3039f046191c010f7ebfea3f38137df21110efa10ee7a069a02443296"
    }
   }
  }
 },
 "nbformat": 4,
 "nbformat_minor": 2,
 "cells": [
  {
   "cell_type": "code",
   "execution_count": null,
   "metadata": {},
   "outputs": [],
   "source": [
    "import os \n",
    "\n",
    "import numpy as np \n",
    "import torch \n",
    "import torch.nn as nn\n",
    "import matplotlib.pyplot as plt \n",
    "import utils as u\n",
    "\n",
    "from torch.distributions import constraints \n",
    "import pyro.contrib.autoguide as autoguide\n",
    "import pyro.distributions as dist\n",
    "from pyro.infer import SVI, Trace_ELBO\n",
    "from pyro.optim import Adam, SGD"
   ]
  },
  {
   "source": [
    "We will first create the dataset for which we will construct the distribution. This dataset can be observed below. "
   ],
   "cell_type": "markdown",
   "metadata": {}
  },
  {
   "cell_type": "code",
   "execution_count": null,
   "metadata": {},
   "outputs": [],
   "source": [
    "radial_std = 0.32\n",
    "tangential_std = 0.1\n",
    "num_classes = 2\n",
    "num_per_class = 1000\n",
    "rate = 2\n",
    "data = u.make_pinwheel_data(radial_std,tangential_std,num_classes,num_per_class,rate)\n",
    "\n",
    "#mean = -100 * torch.ones((num_per_class,2))\n",
    "#variance = 0.1 * torch.ones((num_per_class,2 ))\n",
    "#data = dist.Normal(mean,variance).sample()\n"
   ]
  },
  {
   "cell_type": "code",
   "execution_count": null,
   "metadata": {},
   "outputs": [],
   "source": [
    "ax = plt.subplot(111)\n",
    "ax.scatter(data[:,0],data[:,1])\n"
   ]
  },
  {
   "source": [],
   "cell_type": "markdown",
   "metadata": {}
  },
  {
   "source": [
    "class Decoder(nn.Module): \n",
    "    def __init__(self, z_dim, x_dim, hidden_dim): \n",
    "        super().__init__()\n",
    "        self.fc1 = nn.Linear(z_dim, hidden_dim)\n",
    "        self.fc21 = nn.Linear(hidden_dim, x_dim)\n",
    "        self.fcad = nn.Linear(hidden_dim, hidden_dim)\n",
    "        #Gives parameters for the cholesky deocomposition\n",
    "        self.fc22 = nn.Linear(hidden_dim, 1)\n",
    "        self.fc11 = nn.Linear(hidden_dim, hidden_dim)\n",
    "        self.tanh = nn.Softplus()\n",
    "        self.x_dim = x_dim\n",
    "        self.z_dim = z_dim\n",
    "        \n",
    "    def forward(self, z): \n",
    "        hidden = self.tanh(self.fc1(z))\n",
    "        hidden = self.tanh(self.fc11(hidden))\n",
    "        hidden = self.tanh(self.fcad(hidden))\n",
    "        x_loc = self.fc21(hidden)\n",
    "\n",
    "        x_scale = torch.exp(self.fc22(hidden))\n",
    "        return x_loc , x_scale\n",
    "\n",
    "class Encoder(nn.Module):\n",
    "    def __init__(self, x_dim, z_dim, hidden_dim): \n",
    "        super().__init__()\n",
    "        self.fc1 = nn.Linear(x_dim,hidden_dim)\n",
    "        self.fc21 = nn.Linear(hidden_dim, z_dim)\n",
    "        self.fc22 = nn.Linear(hidden_dim, z_dim)\n",
    "        self.fc11 = nn.Linear(hidden_dim, hidden_dim)\n",
    "        self.softplus = nn.Softplus()\n",
    "\n",
    "    def forward(self, x): \n",
    "        hidden = self.softplus(self.fc1(x))\n",
    "        hidden = self.softplus(self.fc11(hidden))\n",
    "        z_loc = self.fc21(hidden)\n",
    "        z_scale = torch.exp(self.fc22(hidden))\n",
    "\n",
    "        return z_loc, z_scale\n",
    "\n"
   ],
   "cell_type": "code",
   "metadata": {},
   "execution_count": null,
   "outputs": []
  },
  {
   "cell_type": "code",
   "execution_count": null,
   "metadata": {},
   "outputs": [],
   "source": [
    "class VAE(nn.Module): \n",
    "    def __init__(self, x_dim=2, z_dim=2, hidden_dim=2, use_cuda=False): \n",
    "        super().__init__()\n",
    "        self.encoder = Encoder(x_dim,z_dim, hidden_dim)\n",
    "        self.decoder = Decoder(z_dim, x_dim, hidden_dim)\n",
    "        self.use_cuda = use_cuda\n",
    "        self.z_dim = z_dim\n",
    "        self.x_dim = x_dim\n",
    "\n",
    "\n",
    "    def model(self, x):\n",
    "        pyro.module('decoder', self.decoder)\n",
    "        scale = pyro.param('scale', torch.tensor(1.), constraints.interval(0.2,10))\n",
    "        with pyro.plate('data', x.shape[0]):\n",
    "            z_loc = x.new_zeros(torch.Size((x.shape[0], self.z_dim)))\n",
    "            z_scale =  x.new_ones(torch.Size((x.shape[0], self.z_dim)))\n",
    "            z = pyro.sample('latent', dist.Normal(z_loc,z_scale).to_event(1))\n",
    "            loc_img, var_img = self.decoder(z)\n",
    "            var_img = torch.eye(x.shape[1]) * scale\n",
    "            out = pyro.sample('obs', dist.MultivariateNormal(loc_img, var_img), obs=x)\n",
    "\n",
    "\n",
    "    def guide(self, x):\n",
    "        pyro.module('encoder', self.encoder)\n",
    "        with pyro.plate('data', x.shape[0]):\n",
    "            z_loc, z_scale = self.encoder(x)\n",
    "            out = pyro.sample('latent', dist.Normal(z_loc,z_scale).to_event(1))\n",
    "\n",
    "\n",
    "    def sample_latent(self,num_samples):\n",
    "        zeros = torch.zeros([num_samples, self.z_dim])\n",
    "        ones = torch.ones([num_samples,self. z_dim])\n",
    "        z = dist.Normal(zeros, ones).sample()\n",
    "        mean, var = self.decoder(z)\n",
    "        var = torch.eye(self.x_dim) * pyro.param('scale')\n",
    "        res = pyro.sample('results', dist.MultivariateNormal(mean,var))\n",
    "        return res\n",
    "\n",
    "    def reconstruct(self, x): \n",
    "        mean, var = self.encoder(x)\n",
    "        z = dist.Normal(mean, var).sample()\n",
    "        mean, var = self.decoder(z)\n",
    "        var = torch.eye(self.x_dim) * pyro.param('scale')\n",
    "        res = dist.MultivariateNormal(mean, var).sample()\n",
    "        return res\n",
    "\n",
    "\n",
    "\n"
   ]
  },
  {
   "cell_type": "code",
   "execution_count": null,
   "metadata": {},
   "outputs": [],
   "source": [
    "vae = VAE()"
   ]
  },
  {
   "cell_type": "code",
   "execution_count": null,
   "metadata": {
    "tags": []
   },
   "outputs": [],
   "source": [
    "datat = torch.tensor(data).float()\n",
    "res = vae.model(datat).detach().numpy()\n",
    "plt.scatter(res[:,0],res[:,1])"
   ]
  },
  {
   "cell_type": "code",
   "execution_count": null,
   "metadata": {},
   "outputs": [],
   "source": [
    "data = torch.tensor(data).float()\n",
    "train = int(len(data) * 0.8)\n",
    "train_loader = torch.utils.data.DataLoader(data[:train],len(data[:train]),shuffle=True)\n",
    "test_loader = torch.utils.data.DataLoader(data[train:],200)"
   ]
  },
  {
   "cell_type": "code",
   "execution_count": null,
   "metadata": {},
   "outputs": [],
   "source": [
    "def train(svi, train_loader, use_cuda=False): \n",
    "    epoch_loss = 0\n",
    "\n",
    "    for minibatch in train_loader: \n",
    "        if use_cuda:\n",
    "            minibatch = minibatch.cuda()\n",
    "        epoch_loss = svi.step(minibatch)\n",
    "\n",
    "    normalizer_train = len(train_loader.dataset)\n",
    "\n",
    "    total_epoch_loss_train = epoch_loss/normalizer_train\n",
    "    return total_epoch_loss_train\n"
   ]
  },
  {
   "cell_type": "code",
   "execution_count": null,
   "metadata": {},
   "outputs": [],
   "source": [
    "def evaluate(svi, test_loader, use_cuda=False):\n",
    "    # initialize loss accumulator\n",
    "    test_loss = 0.\n",
    "    # compute the loss over the entire test set\n",
    "    for x in test_loader:\n",
    "        # if on GPU put mini-batch into CUDA memory\n",
    "        if use_cuda:\n",
    "            x = x.cuda()\n",
    "        # compute ELBO estimate and accumulate loss\n",
    "        test_loss += svi.evaluate_loss(x)\n",
    "    normalizer_test = len(test_loader.dataset)\n",
    "    total_epoch_loss_test = test_loss / normalizer_test\n",
    "    return total_epoch_loss_test"
   ]
  },
  {
   "cell_type": "code",
   "execution_count": null,
   "metadata": {},
   "outputs": [],
   "source": [
    "LR = 0.01\n",
    "USE_CUDA = False\n",
    "\n",
    "NUM_EPOCHS = 20000\n",
    "TEST_FREQUENCY = 50"
   ]
  },
  {
   "cell_type": "code",
   "execution_count": null,
   "metadata": {
    "tags": [
     "outputPrepend"
    ]
   },
   "outputs": [],
   "source": [
    "pyro.clear_param_store()\n",
    "vae = VAE(hidden_dim=20)\n",
    "\n",
    "adam_args = {'lr':LR}\n",
    "optimizer = torch.optim.Adam\n",
    "scheduler = pyro.optim.StepLR({ 'step_size' : 5000, 'gamma':0.01,'verbose':False, 'optimizer':optimizer,'optim_args':adam_args})\n",
    "\n",
    "guide = autoguide.AutoDiagonalNormal(vae.model)\n",
    "svi = SVI(vae.model, vae.guide, scheduler,loss=Trace_ELBO())\n",
    "train_elbo = []\n",
    "test_elbo = []\n",
    "\n",
    "for epoch in range(NUM_EPOCHS):\n",
    "    total_epoch_loss_train = train(svi, train_loader, use_cuda=USE_CUDA)\n",
    "    train_elbo.append(total_epoch_loss_train)\n",
    "\n",
    "    if epoch % TEST_FREQUENCY == 0:\n",
    "        # report test diagnostics\n",
    "        total_epoch_loss_test = evaluate(svi, test_loader, use_cuda=USE_CUDA)\n",
    "        test_elbo.append(-total_epoch_loss_test)\n",
    "        print(\"[epoch %03d] average test loss: %.4f\" % (epoch, total_epoch_loss_test))\n",
    "        scheduler.step()\n",
    "\n",
    "    if epoch % TEST_FREQUENCY == 0: \n",
    "        print(\"[epoch %03d]  average training loss: %.4f\" % (epoch, total_epoch_loss_train))\n"
   ]
  },
  {
   "cell_type": "code",
   "execution_count": null,
   "metadata": {},
   "outputs": [],
   "source": []
  },
  {
   "cell_type": "code",
   "execution_count": null,
   "metadata": {},
   "outputs": [],
   "source": [
    "plt.plot((np.log(np.array(train_elbo))))"
   ]
  },
  {
   "cell_type": "code",
   "execution_count": null,
   "metadata": {},
   "outputs": [],
   "source": [
    "#real = data.detach().numpy()\n",
    "real = data\n",
    "sampled = vae.sample_latent(10000).detach().numpy()\n",
    "plt.scatter(sampled[:,0],sampled[:,1],c='r', alpha =0.04)\n",
    "plt.scatter(real[:,0],real[:,1],c='b',alpha=0.05)\n"
   ]
  },
  {
   "cell_type": "code",
   "execution_count": null,
   "metadata": {},
   "outputs": [],
   "source": [
    "reconstructed = vae.reconstruct(datat).detach().numpy()\n",
    "color = real[:,1]/np.abs(real[:,1])\n",
    "plt.scatter(reconstructed[:,0],reconstructed[:,1])\n",
    "plt.scatter(real[:,0],real[:,1])"
   ]
  },
  {
   "source": [
    "# Second attempt using a full bayesian specification. "
   ],
   "cell_type": "markdown",
   "metadata": {}
  },
  {
   "cell_type": "code",
   "execution_count": null,
   "metadata": {},
   "outputs": [],
   "source": [
    "pyro.param('scale')"
   ]
  },
  {
   "cell_type": "code",
   "execution_count": null,
   "metadata": {},
   "outputs": [],
   "source": [
    "a.repeat(1,10)"
   ]
  },
  {
   "cell_type": "code",
   "execution_count": null,
   "metadata": {},
   "outputs": [],
   "source": [
    "a = torch.rand(2,2,2)\n",
    "print(a)"
   ]
  },
  {
   "cell_type": "code",
   "execution_count": null,
   "metadata": {},
   "outputs": [],
   "source": [
    "a[torch.tensor([0,0]),torch.tensor([0,1])]"
   ]
  },
  {
   "cell_type": "code",
   "execution_count": null,
   "metadata": {},
   "outputs": [],
   "source": []
  }
 ]
}