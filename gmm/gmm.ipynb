{
 "metadata": {
  "language_info": {
   "codemirror_mode": {
    "name": "ipython",
    "version": 3
   },
   "file_extension": ".py",
   "mimetype": "text/x-python",
   "name": "python",
   "nbconvert_exporter": "python",
   "pygments_lexer": "ipython3",
   "version": "3.8.5-final"
  },
  "orig_nbformat": 2,
  "kernelspec": {
   "name": "python3",
   "display_name": "Python 3.8.5 64-bit ('.venv')",
   "metadata": {
    "interpreter": {
     "hash": "ead969f3039f046191c010f7ebfea3f38137df21110efa10ee7a069a02443296"
    }
   }
  }
 },
 "nbformat": 4,
 "nbformat_minor": 2,
 "cells": [
  {
   "cell_type": "code",
   "execution_count": null,
   "metadata": {},
   "outputs": [],
   "source": [
    "import os \n",
    "\n",
    "import numpy as np \n",
    "import torch \n",
    "import torch.nn as nn\n",
    "import matplotlib.pyplot as plt \n",
    "import utils as u\n",
    "\n",
    "import pyro\n",
    "import pyro.distributions as dist\n",
    "from pyro.infer import SVI, Trace_ELBO\n",
    "from pyro.optim import Adam, SGD"
   ]
  },
  {
   "source": [
    "We will first create the dataset for which we will construct the distribution. This dataset can be observed below. "
   ],
   "cell_type": "markdown",
   "metadata": {}
  },
  {
   "cell_type": "code",
   "execution_count": null,
   "metadata": {},
   "outputs": [],
   "source": [
    "radial_std = 0.32\n",
    "tangential_std = 0.1\n",
    "num_classes = 1\n",
    "num_per_class = 1000\n",
    "rate = 0.5\n",
    "data = u.make_pinwheel_data(radial_std,tangential_std,num_classes,num_per_class,rate)\n"
   ]
  },
  {
   "cell_type": "code",
   "execution_count": null,
   "metadata": {},
   "outputs": [],
   "source": [
    "ax = plt.subplot(111)\n",
    "ax.scatter(data[:,0],data[:,1])\n",
    "data = torch.Tensor(data)"
   ]
  },
  {
   "source": [],
   "cell_type": "markdown",
   "metadata": {}
  },
  {
   "source": [
    "class Decoder(nn.Module): \n",
    "    def __init__(self, z_dim, x_dim, hidden_dim): \n",
    "        super().__init__()\n",
    "        self.fc1 = nn.Linear(z_dim, hidden_dim)\n",
    "        self.fc21 = nn.Linear(hidden_dim, x_dim)\n",
    "        self.fc22 = nn.Linear(hidden_dim, x_dim)\n",
    "        self.fc11 = nn.Linear(hidden_dim, hidden_dim)\n",
    "        self.tanh = nn.Tanh()\n",
    "        \n",
    "    def forward(self, z): \n",
    "        hidden = self.tanh(self.fc1(z))\n",
    "        hidden = self.tanh(self.fc11(hidden))\n",
    "        x_loc = self.fc21(hidden)\n",
    "        x_scale = torch.exp(self.fc22(hidden))\n",
    "        return x_loc, x_scale\n",
    "\n",
    "class Encoder(nn.Module):\n",
    "    def __init__(self, x_dim, z_dim, hidden_dim): \n",
    "        super().__init__()\n",
    "        self.fc1 = nn.Linear(x_dim,hidden_dim)\n",
    "        self.fc21 = nn.Linear(hidden_dim, z_dim)\n",
    "        self.fc22 = nn.Linear(hidden_dim, z_dim)\n",
    "        self.fc11 = nn.Linear(hidden_dim, hidden_dim)\n",
    "        self.softplus = nn.Tanh()\n",
    "\n",
    "    def forward(self, x): \n",
    "        hidden = self.softplus(self.fc1(x))\n",
    "        hidden = self.softplus(self.fc11(hidden))\n",
    "        z_loc = self.fc21(hidden)\n",
    "        z_scale = torch.exp(self.fc22(hidden))\n",
    "\n",
    "        return z_loc, z_scale\n",
    "\n"
   ],
   "cell_type": "code",
   "metadata": {},
   "execution_count": null,
   "outputs": []
  },
  {
   "cell_type": "code",
   "execution_count": null,
   "metadata": {},
   "outputs": [],
   "source": [
    "class VAE(nn.Module): \n",
    "    def __init__(self, x_dim=2, z_dim=2, hidden_dim=2, use_cuda=False): \n",
    "        super().__init__()\n",
    "        self.encoder = Encoder(x_dim,z_dim, hidden_dim)\n",
    "        self.decoder = Decoder(z_dim, x_dim, hidden_dim)\n",
    "        self.use_cuda = use_cuda\n",
    "        self.z_dim = z_dim\n",
    "        self.x_dim = x_dim\n",
    "\n",
    "\n",
    "    def model(self, x):\n",
    "        pyro.module('decoder', self.decoder)\n",
    "        with pyro.plate('data', x.shape[0]):\n",
    "            z_loc = x.new_zeros(torch.Size((x.shape[0], self.z_dim)))\n",
    "            z_scale = 5 * x.new_ones(torch.Size((x.shape[0], self.z_dim)))\n",
    "            z = pyro.sample('latent', dist.Normal(z_loc,z_scale).to_event(1))\n",
    "            loc_img, var_img = self.decoder(z)\n",
    "            out = pyro.sample('obs', dist.Normal(loc_img, var_img).to_event(1), obs=x)\n",
    "\n",
    "\n",
    "    def guide(self, x):\n",
    "        pyro.module('encoder', self.encoder)\n",
    "        with pyro.plate('data', x.shape[0]):\n",
    "            z_loc, z_scale = self.encoder(x)\n",
    "            out = pyro.sample('latent', dist.Normal(z_loc,z_scale).to_event(1))\n",
    "\n",
    "\n",
    "    def sample_latent(self,num_samples):\n",
    "        zeros = torch.zeros([num_samples, self.z_dim])\n",
    "        ones = torch.ones([num_samples,self. z_dim])\n",
    "        z = dist.Normal(zeros, ones).sample()\n",
    "        mean, var = self.decoder(z)\n",
    "        res = pyro.sample('results', dist.Normal(mean,var))\n",
    "        return res\n",
    "\n",
    "    def reconstruct(self, x): \n",
    "        mean, var = self.encoder(x)\n",
    "        z = dist.Normal(mean, var).sample()\n",
    "        mean, var = self.decoder(z)\n",
    "        res = dist.Normal(mean, var).sample()\n",
    "        return mean\n",
    "\n",
    "\n",
    "\n"
   ]
  },
  {
   "cell_type": "code",
   "execution_count": null,
   "metadata": {},
   "outputs": [],
   "source": [
    "vae = VAE()"
   ]
  },
  {
   "cell_type": "code",
   "execution_count": null,
   "metadata": {},
   "outputs": [],
   "source": [
    "res = vae.model(data).detach().numpy()\n",
    "plt.scatter(res[:,0],res[:,1])"
   ]
  },
  {
   "cell_type": "code",
   "execution_count": null,
   "metadata": {},
   "outputs": [],
   "source": [
    "data = torch.tensor(data)\n",
    "train = int(len(data) * 0.8)\n",
    "train_loader = torch.utils.data.DataLoader(data[:train],400,shuffle=True)\n",
    "test_loader = torch.utils.data.DataLoader(data[train:],200)"
   ]
  },
  {
   "cell_type": "code",
   "execution_count": null,
   "metadata": {},
   "outputs": [],
   "source": [
    "def train(svi, train_loader, use_cuda=False): \n",
    "    epoch_loss = 0\n",
    "\n",
    "    for minibatch in train_loader: \n",
    "        if use_cuda:\n",
    "            minibatch = minibatch.cuda()\n",
    "        epoch_loss = svi.step(minibatch)\n",
    "\n",
    "    normalizer_train = len(train_loader.dataset)\n",
    "\n",
    "    total_epoch_loss_train = epoch_loss/normalizer_train\n",
    "    return total_epoch_loss_train\n"
   ]
  },
  {
   "cell_type": "code",
   "execution_count": null,
   "metadata": {},
   "outputs": [],
   "source": [
    "def evaluate(svi, test_loader, use_cuda=False):\n",
    "    # initialize loss accumulator\n",
    "    test_loss = 0.\n",
    "    # compute the loss over the entire test set\n",
    "    for x in test_loader:\n",
    "        # if on GPU put mini-batch into CUDA memory\n",
    "        if use_cuda:\n",
    "            x = x.cuda()\n",
    "        # compute ELBO estimate and accumulate loss\n",
    "        test_loss += svi.evaluate_loss(x)\n",
    "    normalizer_test = len(test_loader.dataset)\n",
    "    total_epoch_loss_test = test_loss / normalizer_test\n",
    "    return total_epoch_loss_test"
   ]
  },
  {
   "cell_type": "code",
   "execution_count": null,
   "metadata": {},
   "outputs": [],
   "source": [
    "LR = 0.0005\n",
    "USE_CUDA = False\n",
    "\n",
    "NUM_EPOCHS = 10000\n",
    "TEST_FREQUENCY = 20"
   ]
  },
  {
   "cell_type": "code",
   "execution_count": null,
   "metadata": {
    "tags": [
     "outputPrepend"
    ]
   },
   "outputs": [],
   "source": [
    "pyro.clear_param_store()\n",
    "vae = VAE(z_dim=20)\n",
    "\n",
    "adam_args = {'lr':LR}\n",
    "optimizer = Adam(adam_args)\n",
    "\n",
    "svi = SVI(vae.model, vae.guide, optimizer,loss=Trace_ELBO())\n",
    "train_elbo = []\n",
    "test_elbo = []\n",
    "\n",
    "for epoch in range(NUM_EPOCHS):\n",
    "    total_epoch_loss_train = train(svi, train_loader, use_cuda=USE_CUDA)\n",
    "    train_elbo.append(total_epoch_loss_train)\n",
    "\n",
    "    if epoch % TEST_FREQUENCY == 0:\n",
    "        # report test diagnostics\n",
    "        total_epoch_loss_test = evaluate(svi, test_loader, use_cuda=USE_CUDA)\n",
    "        test_elbo.append(-total_epoch_loss_test)\n",
    "        print(\"[epoch %03d] average test loss: %.4f\" % (epoch, total_epoch_loss_test))\n",
    "\n",
    "    if epoch % TEST_FREQUENCY == 0: \n",
    "        print(\"[epoch %03d]  average training loss: %.4f\" % (epoch, total_epoch_loss_train))\n"
   ]
  },
  {
   "cell_type": "code",
   "execution_count": null,
   "metadata": {},
   "outputs": [],
   "source": [
    "plt.plot(train_elbo)"
   ]
  },
  {
   "cell_type": "code",
   "execution_count": null,
   "metadata": {},
   "outputs": [],
   "source": [
    "sampled = vae.sample_latent(1000).detach().numpy()\n",
    "plt.scatter(sampled[:,0],sampled[:,1])"
   ]
  },
  {
   "cell_type": "code",
   "execution_count": null,
   "metadata": {},
   "outputs": [],
   "source": [
    "reconstructed = vae.reconstruct(data).detach().numpy()\n",
    "plt.scatter(reconstructed[:,0],reconstructed[:,1])"
   ]
  },
  {
   "source": [
    "# Second attempt using a full bayesian specification. "
   ],
   "cell_type": "markdown",
   "metadata": {}
  },
  {
   "cell_type": "code",
   "execution_count": null,
   "metadata": {},
   "outputs": [],
   "source": []
  }
 ]
}