{
 "cells": [
  {
   "cell_type": "code",
   "execution_count": null,
   "metadata": {},
   "outputs": [],
   "source": [
    "!pip3 uninstall numpy -y\n",
    "!pip3 install numpy\n",
    "import autograd\n",
    "import numpy as np\n",
    "import pandas as pd\n",
    "import autograd.numpy.random as npr\n",
    "npr.seed(0)\n",
    "import matplotlib.pyplot as plt\n",
    "from matplotlib.colors import ListedColormap\n",
    "\n",
    "%matplotlib inline\n",
    "\n",
    "import seaborn as sns\n",
    "\n",
    "sns.set_style(\"white\")\n",
    "sns.set_context(\"talk\")\n",
    "\n",
    "color_names = [\"windows blue\",\n",
    "               \"red\",\n",
    "               \"amber\",\n",
    "               \"faded green\",\n",
    "               \"dusty purple\",\n",
    "               \"orange\",\n",
    "               \"clay\",\n",
    "               \"pink\",\n",
    "               \"greyish\",\n",
    "               \"mint\",\n",
    "               \"cyan\",\n",
    "               \"steel blue\",\n",
    "               \"forest green\",\n",
    "               \"pastel purple\",\n",
    "               \"salmon\",\n",
    "               \"dark brown\"]\n",
    "\n",
    "colors = sns.xkcd_palette(color_names)\n",
    "cmap = ListedColormap(colors)\n",
    "\n",
    "import ssm\n",
    "from ssm.util import random_rotation, find_permutation\n",
    "from ssm.plots import plot_dynamics_2d\n",
    "\n",
    "save_figures = False"
   ]
  },
  {
   "cell_type": "markdown",
   "metadata": {},
   "source": [
    "First we will load the data to see what we are dealing with and we will plot a short animation"
   ]
  },
  {
   "cell_type": "code",
   "execution_count": null,
   "metadata": {},
   "outputs": [],
   "source": [
    "#load the data \n",
    "import h5py\n",
    "name = 'mouse_second_video.mp4.predictions.analysis.h5'\n",
    "with h5py.File(name, 'r') as f:\n",
    "    occupancy_matrix = f['track_occupancy'][:]\n",
    "    tracks_matrix = f['tracks'][:]\n",
    "\n",
    "tracks_matrix = tracks_matrix[0]\n",
    "print(occupancy_matrix.shape)\n",
    "print(tracks_matrix.shape)"
   ]
  },
  {
   "cell_type": "code",
   "execution_count": null,
   "metadata": {},
   "outputs": [],
   "source": [
    "#This helps us identify which point is which \n",
    "\n",
    "for i in range(7):\n",
    "    plt.scatter(tracks_matrix[0,i,650],tracks_matrix[1,i,650],label=i)\n",
    "\n",
    "\n",
    "plt.title(\"Plot to know what label is which\")\n",
    "plt.legend()\n"
   ]
  },
  {
   "cell_type": "code",
   "execution_count": null,
   "metadata": {},
   "outputs": [],
   "source": [
    "import matplotlib.pyplot as plt\n",
    "import numpy as np\n",
    "from moviepy.editor import VideoClip\n",
    "from moviepy.video.io.bindings import mplfig_to_npimage\n",
    "\n",
    "x = np.linspace(-2, 2, 200)\n",
    "\n",
    "duration = 10\n",
    "\n",
    "fig, ax = plt.subplots()\n",
    "def make_frame(t):\n",
    "    ax.clear()\n",
    "    ax.plot(x, np.sinc(x**2) + np.sin(x + 2*np.pi/duration * t), lw=3)\n",
    "    ax.set_ylim(-1.5, 2.5)\n",
    "    return mplfig_to_npimage(fig)\n",
    "\n",
    "animation = VideoClip(make_frame, duration=duration)\n",
    "animation.ipython_display(fps=20, loop=True, autoplay=True)\n",
    "\n"
   ]
  },
  {
   "cell_type": "code",
   "execution_count": null,
   "metadata": {},
   "outputs": [],
   "source": []
  },
  {
   "cell_type": "code",
   "execution_count": null,
   "metadata": {},
   "outputs": [],
   "source": [
    "for i in range(7):\n",
    "    plt.plot(tracks_matrix[0,i,:],label= \"x_{}\".format(i))\n",
    "    plt.plot(tracks_matrix[1,i,:],label=\"y_{}\".format(i))\n",
    "\n",
    "plt.legend()\n",
    "\n",
    "\n"
   ]
  },
  {
   "cell_type": "code",
   "execution_count": null,
   "metadata": {},
   "outputs": [],
   "source": [
    "# Now we need to clean the data.\n",
    "# I will do this by centering the data an dealing with nan values by interpolation \n",
    "# I will ignore the first 30 frames because they are particularly bad \n",
    "clean = np.zeros(tracks_matrix.shape)\n",
    "distance_clean = np.zeros([tracks_matrix.shape[1]-1, tracks_matrix.shape[2]])\n",
    "start = 30\n",
    "\n",
    "# We will make it so that the center of the coordinate system is the head \n",
    "for position in range(7):\n",
    "    for coordinate in range(2):\n",
    "        clean[coordinate,position] = np.array(pd.Series(tracks_matrix[coordinate,position]).interpolate())\n",
    "\n",
    "# We will make it so that the center of the coordinate system is the head \n",
    "head_position = clean[:,0].copy()\n",
    "#print(head_position)\n",
    "for position in range(7):\n",
    "    for coordinate in range(2): \n",
    "        clean[coordinate,position] = (clean[coordinate,position] - head_position[coordinate]).copy()\n",
    "        \n",
    "for position in range(1, 7):\n",
    "    distance_clean[position-1] = np.sqrt(clean[0, position]**2 + clean[1, position]**2)\n",
    "print(head_position)\n",
    "\n",
    "clean = clean[:,:,start:]\n",
    "distance_clean = distance_clean[:,start:]"
   ]
  },
  {
   "cell_type": "code",
   "execution_count": null,
   "metadata": {},
   "outputs": [],
   "source": [
    "fig, axs = plt.subplots(14,figsize=(20,30))\n",
    "\n",
    "for i in range(7):\n",
    "    axs[2*i].plot(clean[0,i,:],label= \"x_{}\".format(i))\n",
    "    axs[2*i].legend()\n",
    "    axs[2*i+1].plot(clean[1,i,:],label=\"y_{}\".format(i))\n",
    "    axs[2*i+1].legend()\n",
    "\n",
    "plt.legend()"
   ]
  },
  {
   "cell_type": "code",
   "execution_count": null,
   "metadata": {},
   "outputs": [],
   "source": [
    "fig, axs = plt.subplots(6,figsize=(20,30))\n",
    "\n",
    "for i in range(6):\n",
    "    axs[i].plot(distance_clean[i,:],label= \"x_{}\".format(i))\n",
    "    axs[i].legend()\n",
    "    \n",
    "plt.legend()"
   ]
  },
  {
   "cell_type": "code",
   "execution_count": null,
   "metadata": {},
   "outputs": [],
   "source": [
    "emissions = clean.reshape(-1,clean.shape[-1]).T\n",
    "emissions.shape"
   ]
  },
  {
   "cell_type": "code",
   "execution_count": null,
   "metadata": {},
   "outputs": [],
   "source": [
    "emissions = distance_clean.reshape(-1,clean.shape[-1]).T\n",
    "emissions.shape"
   ]
  },
  {
   "cell_type": "code",
   "execution_count": null,
   "metadata": {},
   "outputs": [],
   "source": [
    "emissions_dim = emissions.shape[-1]\n",
    "n_disc_states = 6\n",
    "latent_dim = 5\n",
    "emissions_func ='gaussian_orthog'\n",
    "slds = ssm.SLDS(emissions_dim, n_disc_states,latent_dim, emissions=emissions_func)\n",
    "# Fit the model using Laplace-EM with a structured variational posterior\n",
    "q_lem_elbos, q_lem = slds.fit(emissions, method=\"laplace_em\",\n",
    "                               variational_posterior=\"structured_meanfield\",\n",
    "                               num_iters=100, alpha=0.0)\n",
    "\n",
    "# Get the posterior mean of the continuous states\n",
    "q_lem_x = q_lem.mean_continuous_states[0]\n",
    "\n",
    "# Find the permutation that matches the true and inferred states\n",
    "q_lem_z = slds.most_likely_states(q_lem_x, emissions)\n",
    "\n",
    "# Smooth the data under the variational posterior\n",
    "q_lem_y = slds.smooth(q_lem_x, emissions)"
   ]
  },
  {
   "cell_type": "code",
   "execution_count": null,
   "metadata": {},
   "outputs": [],
   "source": [
    "for i, j in enumerate(q_lem_z):\n",
    "    print(i+30, j)"
   ]
  },
  {
   "cell_type": "code",
   "execution_count": null,
   "metadata": {},
   "outputs": [],
   "source": [
    "plt.plot(q_lem_elbos[2:])\n"
   ]
  },
  {
   "cell_type": "code",
   "execution_count": null,
   "metadata": {},
   "outputs": [],
   "source": [
    "q_lem_z"
   ]
  },
  {
   "cell_type": "code",
   "execution_count": null,
   "metadata": {},
   "outputs": [],
   "source": [
    "emissions_dim = emissions.shape[-1]\n",
    "n_disc_states = 6\n",
    "latent_dim = 5\n",
    "emissions_func ='gaussian_orthog'\n",
    "slds = ssm.SLDS(emissions_dim, n_disc_states,latent_dim, emissions=emissions_func)\n",
    "# Fit the model using Laplace-EM with a structured variational posterior\n",
    "q_lem_elbos2, q_lem2 = slds.fit(emissions, method=\"laplace_em\",\n",
    "                               variational_posterior=\"structured_meanfield\",\n",
    "                               num_iters=100, alpha=0.0)\n",
    "\n",
    "# Get the posterior mean of the continuous states\n",
    "q_lem_x2 = q_lem2.mean_continuous_states[0]\n",
    "\n",
    "# Find the permutation that matches the true and inferred states\n",
    "q_lem_z2 = slds.most_likely_states(q_lem_x2, emissions)\n",
    "\n",
    "# Smooth the data under the variational posterior\n",
    "q_lem_y2 = slds.smooth(q_lem_x2, emissions)"
   ]
  },
  {
   "cell_type": "code",
   "execution_count": null,
   "metadata": {},
   "outputs": [],
   "source": [
    "duration = len(q_lem_z2)/15\n",
    "\n",
    "fig, ax = plt.subplots()\n",
    "def make_frame(t):\n",
    "    ax.clear()\n",
    "    ax.set_facecolor(\"xkcd:\"+color_names[q_lem_z[int(t*15)]])\n",
    "    return mplfig_to_npimage(fig)\n",
    "\n",
    "animation = VideoClip(make_frame, duration=duration)\n",
    "animation.ipython_display(fps=15, maxduration=1000, loop=True, autoplay=True)"
   ]
  },
  {
   "cell_type": "code",
   "execution_count": null,
   "metadata": {},
   "outputs": [],
   "source": [
    "import moviepy.editor as mpe\n",
    "\n",
    "video = mpe.VideoFileClip('/home/asifmallik/Downloads/concat_mouse_2.mp4')\n",
    "for state in range(0, 6):\n",
    "    duration = (q_lem_z2 == state).sum()/15\n",
    "    def make_frame_mouse(t):\n",
    "        return video.get_frame(np.arange(0, len(q_lem_z2))[q_lem_z2 == state][int(t*15)]/15)\n",
    "    animation = VideoClip(make_frame_mouse, duration=duration)\n",
    "    animation.write_videofile(\"distance_\" + str(state) + \".mp4\", fps=15)"
   ]
  },
  {
   "cell_type": "code",
   "execution_count": null,
   "metadata": {},
   "outputs": [],
   "source": [
    "import moviepy.editor as mpe\n",
    "\n",
    "video = mpe.VideoFileClip('/home/asifmallik/Downloads/concat_mouse_2.mp4')\n",
    "for state in range(0, 6):\n",
    "    duration = (q_lem_z == state).sum()/15\n",
    "    def make_frame_mouse(t):\n",
    "        return video.get_frame(np.arange(0, len(q_lem_z2))[q_lem_z == state][int(t*15)]/15)\n",
    "    animation = VideoClip(make_frame_mouse, duration=duration)\n",
    "    animation.write_videofile(\"position_\" + str(state) + \".mp4\", fps=15)"
   ]
  }
 ],
 "metadata": {
  "kernelspec": {
   "display_name": "base",
   "language": "python",
   "name": "base"
  },
  "language_info": {
   "codemirror_mode": {
    "name": "ipython",
    "version": 3
   },
   "file_extension": ".py",
   "mimetype": "text/x-python",
   "name": "python",
   "nbconvert_exporter": "python",
   "pygments_lexer": "ipython3",
   "version": "3.8.5"
  }
 },
 "nbformat": 4,
 "nbformat_minor": 2
}
